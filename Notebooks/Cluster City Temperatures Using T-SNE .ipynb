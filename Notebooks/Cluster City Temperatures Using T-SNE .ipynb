{
 "cells": [
  {
   "cell_type": "code",
   "execution_count": 4,
   "metadata": {},
   "outputs": [],
   "source": [
    "# European Cities Temperature Clustering with the T-SNE algorithm"
   ]
  },
  {
   "cell_type": "code",
   "execution_count": 6,
   "metadata": {},
   "outputs": [],
   "source": [
    "## Dataset: Average Monthly Temperatures for Several Cities around Europe\n",
    "### Sourced: http://factominer.free.fr/course/MOOC.html"
   ]
  },
  {
   "cell_type": "code",
   "execution_count": 7,
   "metadata": {},
   "outputs": [],
   "source": [
    "### Motivation: The above resource by F. Husson shows that using simple PCA \n",
    "### analysis will discrimate cities by average temperature PC1 and by \n",
    "### amplitude (hottest temp- coldest temp) PC2 (which is obvious when\n",
    "### you think about it).  \n",
    "### A more sophisticated algorithm may  a) find less obvious patterns and b)\n",
    "### better disciminate amplitude so as to help with clustering.  "
   ]
  },
  {
   "cell_type": "code",
   "execution_count": null,
   "metadata": {},
   "outputs": [],
   "source": [
    "## Required output: \n",
    "## - Cluster number for each city\n",
    "## - Line chart visualizations each city in facet chart."
   ]
  },
  {
   "cell_type": "code",
   "execution_count": 92,
   "metadata": {},
   "outputs": [],
   "source": [
    "# Imports\n",
    "import numpy as np\n",
    "import pandas as pd\n",
    "import matplotlib as plt\n",
    "import seaborn as sns\n",
    "from sklearn.manifold import TSNE"
   ]
  },
  {
   "cell_type": "code",
   "execution_count": 4,
   "metadata": {},
   "outputs": [
    {
     "data": {
      "text/html": [
       "<div>\n",
       "<style scoped>\n",
       "    .dataframe tbody tr th:only-of-type {\n",
       "        vertical-align: middle;\n",
       "    }\n",
       "\n",
       "    .dataframe tbody tr th {\n",
       "        vertical-align: top;\n",
       "    }\n",
       "\n",
       "    .dataframe thead th {\n",
       "        text-align: right;\n",
       "    }\n",
       "</style>\n",
       "<table border=\"1\" class=\"dataframe\">\n",
       "  <thead>\n",
       "    <tr style=\"text-align: right;\">\n",
       "      <th></th>\n",
       "      <th>Unnamed: 0</th>\n",
       "      <th>January</th>\n",
       "      <th>February</th>\n",
       "      <th>March</th>\n",
       "      <th>April</th>\n",
       "      <th>May</th>\n",
       "      <th>June</th>\n",
       "      <th>July</th>\n",
       "      <th>August</th>\n",
       "      <th>September</th>\n",
       "      <th>October</th>\n",
       "      <th>November</th>\n",
       "      <th>December</th>\n",
       "      <th>Annual</th>\n",
       "      <th>Amplitude</th>\n",
       "      <th>Latitude</th>\n",
       "      <th>Longitude</th>\n",
       "      <th>Area</th>\n",
       "    </tr>\n",
       "  </thead>\n",
       "  <tbody>\n",
       "    <tr>\n",
       "      <th>0</th>\n",
       "      <td>Amsterdam</td>\n",
       "      <td>2.9</td>\n",
       "      <td>2.5</td>\n",
       "      <td>5.7</td>\n",
       "      <td>8.2</td>\n",
       "      <td>12.5</td>\n",
       "      <td>14.8</td>\n",
       "      <td>17.1</td>\n",
       "      <td>17.1</td>\n",
       "      <td>14.5</td>\n",
       "      <td>11.4</td>\n",
       "      <td>7.0</td>\n",
       "      <td>4.4</td>\n",
       "      <td>9.9</td>\n",
       "      <td>14.6</td>\n",
       "      <td>52.2</td>\n",
       "      <td>4.5</td>\n",
       "      <td>West</td>\n",
       "    </tr>\n",
       "    <tr>\n",
       "      <th>1</th>\n",
       "      <td>Athens</td>\n",
       "      <td>9.1</td>\n",
       "      <td>9.7</td>\n",
       "      <td>11.7</td>\n",
       "      <td>15.4</td>\n",
       "      <td>20.1</td>\n",
       "      <td>24.5</td>\n",
       "      <td>27.4</td>\n",
       "      <td>27.2</td>\n",
       "      <td>23.8</td>\n",
       "      <td>19.2</td>\n",
       "      <td>14.6</td>\n",
       "      <td>11.0</td>\n",
       "      <td>17.8</td>\n",
       "      <td>18.3</td>\n",
       "      <td>37.6</td>\n",
       "      <td>23.5</td>\n",
       "      <td>South</td>\n",
       "    </tr>\n",
       "    <tr>\n",
       "      <th>2</th>\n",
       "      <td>Berlin</td>\n",
       "      <td>-0.2</td>\n",
       "      <td>0.1</td>\n",
       "      <td>4.4</td>\n",
       "      <td>8.2</td>\n",
       "      <td>13.8</td>\n",
       "      <td>16.0</td>\n",
       "      <td>18.3</td>\n",
       "      <td>18.0</td>\n",
       "      <td>14.4</td>\n",
       "      <td>10.0</td>\n",
       "      <td>4.2</td>\n",
       "      <td>1.2</td>\n",
       "      <td>9.1</td>\n",
       "      <td>18.5</td>\n",
       "      <td>52.3</td>\n",
       "      <td>13.2</td>\n",
       "      <td>West</td>\n",
       "    </tr>\n",
       "    <tr>\n",
       "      <th>3</th>\n",
       "      <td>Brussels</td>\n",
       "      <td>3.3</td>\n",
       "      <td>3.3</td>\n",
       "      <td>6.7</td>\n",
       "      <td>8.9</td>\n",
       "      <td>12.8</td>\n",
       "      <td>15.6</td>\n",
       "      <td>17.8</td>\n",
       "      <td>17.8</td>\n",
       "      <td>15.0</td>\n",
       "      <td>11.1</td>\n",
       "      <td>6.7</td>\n",
       "      <td>4.4</td>\n",
       "      <td>10.3</td>\n",
       "      <td>14.4</td>\n",
       "      <td>50.5</td>\n",
       "      <td>4.2</td>\n",
       "      <td>West</td>\n",
       "    </tr>\n",
       "    <tr>\n",
       "      <th>4</th>\n",
       "      <td>Budapest</td>\n",
       "      <td>-1.1</td>\n",
       "      <td>0.8</td>\n",
       "      <td>5.5</td>\n",
       "      <td>11.6</td>\n",
       "      <td>17.0</td>\n",
       "      <td>20.2</td>\n",
       "      <td>22.0</td>\n",
       "      <td>21.3</td>\n",
       "      <td>16.9</td>\n",
       "      <td>11.3</td>\n",
       "      <td>5.1</td>\n",
       "      <td>0.7</td>\n",
       "      <td>10.9</td>\n",
       "      <td>23.1</td>\n",
       "      <td>47.3</td>\n",
       "      <td>19.0</td>\n",
       "      <td>East</td>\n",
       "    </tr>\n",
       "  </tbody>\n",
       "</table>\n",
       "</div>"
      ],
      "text/plain": [
       "   Unnamed: 0  January  February  March  April   May  June  July  August  \\\n",
       "0  Amsterdam       2.9       2.5    5.7    8.2  12.5  14.8  17.1    17.1   \n",
       "1     Athens       9.1       9.7   11.7   15.4  20.1  24.5  27.4    27.2   \n",
       "2     Berlin      -0.2       0.1    4.4    8.2  13.8  16.0  18.3    18.0   \n",
       "3    Brussels      3.3       3.3    6.7    8.9  12.8  15.6  17.8    17.8   \n",
       "4   Budapest      -1.1       0.8    5.5   11.6  17.0  20.2  22.0    21.3   \n",
       "\n",
       "   September  October  November  December  Annual  Amplitude  Latitude  \\\n",
       "0       14.5     11.4       7.0       4.4     9.9       14.6      52.2   \n",
       "1       23.8     19.2      14.6      11.0    17.8       18.3      37.6   \n",
       "2       14.4     10.0       4.2       1.2     9.1       18.5      52.3   \n",
       "3       15.0     11.1       6.7       4.4    10.3       14.4      50.5   \n",
       "4       16.9     11.3       5.1       0.7    10.9       23.1      47.3   \n",
       "\n",
       "   Longitude   Area  \n",
       "0        4.5   West  \n",
       "1       23.5  South  \n",
       "2       13.2   West  \n",
       "3        4.2   West  \n",
       "4       19.0   East  "
      ]
     },
     "execution_count": 4,
     "metadata": {},
     "output_type": "execute_result"
    }
   ],
   "source": [
    "# Read in Data\n",
    "\n",
    "df = pd.read_csv ( 'http://factominer.free.fr/course/donnees/data_clustering_Temperature.csv', sep=';')\n",
    "df.head ()"
   ]
  },
  {
   "cell_type": "code",
   "execution_count": 71,
   "metadata": {
    "scrolled": true
   },
   "outputs": [
    {
     "data": {
      "text/html": [
       "<div>\n",
       "<style scoped>\n",
       "    .dataframe tbody tr th:only-of-type {\n",
       "        vertical-align: middle;\n",
       "    }\n",
       "\n",
       "    .dataframe tbody tr th {\n",
       "        vertical-align: top;\n",
       "    }\n",
       "\n",
       "    .dataframe thead th {\n",
       "        text-align: right;\n",
       "    }\n",
       "</style>\n",
       "<table border=\"1\" class=\"dataframe\">\n",
       "  <thead>\n",
       "    <tr style=\"text-align: right;\">\n",
       "      <th></th>\n",
       "      <th>Country</th>\n",
       "      <th>January</th>\n",
       "      <th>February</th>\n",
       "      <th>March</th>\n",
       "      <th>April</th>\n",
       "      <th>May</th>\n",
       "      <th>June</th>\n",
       "      <th>July</th>\n",
       "      <th>August</th>\n",
       "      <th>September</th>\n",
       "      <th>October</th>\n",
       "      <th>November</th>\n",
       "      <th>December</th>\n",
       "    </tr>\n",
       "  </thead>\n",
       "  <tbody>\n",
       "    <tr>\n",
       "      <th>0</th>\n",
       "      <td>Amsterdam</td>\n",
       "      <td>2.9</td>\n",
       "      <td>2.5</td>\n",
       "      <td>5.7</td>\n",
       "      <td>8.2</td>\n",
       "      <td>12.5</td>\n",
       "      <td>14.8</td>\n",
       "      <td>17.1</td>\n",
       "      <td>17.1</td>\n",
       "      <td>14.5</td>\n",
       "      <td>11.4</td>\n",
       "      <td>7.0</td>\n",
       "      <td>4.4</td>\n",
       "    </tr>\n",
       "    <tr>\n",
       "      <th>1</th>\n",
       "      <td>Athens</td>\n",
       "      <td>9.1</td>\n",
       "      <td>9.7</td>\n",
       "      <td>11.7</td>\n",
       "      <td>15.4</td>\n",
       "      <td>20.1</td>\n",
       "      <td>24.5</td>\n",
       "      <td>27.4</td>\n",
       "      <td>27.2</td>\n",
       "      <td>23.8</td>\n",
       "      <td>19.2</td>\n",
       "      <td>14.6</td>\n",
       "      <td>11.0</td>\n",
       "    </tr>\n",
       "    <tr>\n",
       "      <th>2</th>\n",
       "      <td>Berlin</td>\n",
       "      <td>-0.2</td>\n",
       "      <td>0.1</td>\n",
       "      <td>4.4</td>\n",
       "      <td>8.2</td>\n",
       "      <td>13.8</td>\n",
       "      <td>16.0</td>\n",
       "      <td>18.3</td>\n",
       "      <td>18.0</td>\n",
       "      <td>14.4</td>\n",
       "      <td>10.0</td>\n",
       "      <td>4.2</td>\n",
       "      <td>1.2</td>\n",
       "    </tr>\n",
       "    <tr>\n",
       "      <th>3</th>\n",
       "      <td>Brussels</td>\n",
       "      <td>3.3</td>\n",
       "      <td>3.3</td>\n",
       "      <td>6.7</td>\n",
       "      <td>8.9</td>\n",
       "      <td>12.8</td>\n",
       "      <td>15.6</td>\n",
       "      <td>17.8</td>\n",
       "      <td>17.8</td>\n",
       "      <td>15.0</td>\n",
       "      <td>11.1</td>\n",
       "      <td>6.7</td>\n",
       "      <td>4.4</td>\n",
       "    </tr>\n",
       "    <tr>\n",
       "      <th>4</th>\n",
       "      <td>Budapest</td>\n",
       "      <td>-1.1</td>\n",
       "      <td>0.8</td>\n",
       "      <td>5.5</td>\n",
       "      <td>11.6</td>\n",
       "      <td>17.0</td>\n",
       "      <td>20.2</td>\n",
       "      <td>22.0</td>\n",
       "      <td>21.3</td>\n",
       "      <td>16.9</td>\n",
       "      <td>11.3</td>\n",
       "      <td>5.1</td>\n",
       "      <td>0.7</td>\n",
       "    </tr>\n",
       "  </tbody>\n",
       "</table>\n",
       "</div>"
      ],
      "text/plain": [
       "      Country  January  February  March  April   May  June  July  August  \\\n",
       "0  Amsterdam       2.9       2.5    5.7    8.2  12.5  14.8  17.1    17.1   \n",
       "1     Athens       9.1       9.7   11.7   15.4  20.1  24.5  27.4    27.2   \n",
       "2     Berlin      -0.2       0.1    4.4    8.2  13.8  16.0  18.3    18.0   \n",
       "3    Brussels      3.3       3.3    6.7    8.9  12.8  15.6  17.8    17.8   \n",
       "4   Budapest      -1.1       0.8    5.5   11.6  17.0  20.2  22.0    21.3   \n",
       "\n",
       "   September  October  November  December  \n",
       "0       14.5     11.4       7.0       4.4  \n",
       "1       23.8     19.2      14.6      11.0  \n",
       "2       14.4     10.0       4.2       1.2  \n",
       "3       15.0     11.1       6.7       4.4  \n",
       "4       16.9     11.3       5.1       0.7  "
      ]
     },
     "execution_count": 71,
     "metadata": {},
     "output_type": "execute_result"
    }
   ],
   "source": [
    "# Obtain some data to process..\n",
    "df.columns = np.insert ( df.columns[1:], 0,'Country' ,axis=0)\n",
    "df_train = df.drop(df.columns[[13,14,15,16,17]], axis=1, inplace=False)\n",
    "df_train.head ()"
   ]
  },
  {
   "cell_type": "code",
   "execution_count": 123,
   "metadata": {},
   "outputs": [],
   "source": [
    "from sklearn.manifold import TSNE\n",
    "X_embedded = TSNE(n_components=2, perplexity = 15).fit_transform( df_train.iloc [ : , 1:] )\n",
    "\n",
    "#df_train"
   ]
  },
  {
   "cell_type": "code",
   "execution_count": 124,
   "metadata": {},
   "outputs": [
    {
     "data": {
      "text/html": [
       "<div>\n",
       "<style scoped>\n",
       "    .dataframe tbody tr th:only-of-type {\n",
       "        vertical-align: middle;\n",
       "    }\n",
       "\n",
       "    .dataframe tbody tr th {\n",
       "        vertical-align: top;\n",
       "    }\n",
       "\n",
       "    .dataframe thead th {\n",
       "        text-align: right;\n",
       "    }\n",
       "</style>\n",
       "<table border=\"1\" class=\"dataframe\">\n",
       "  <thead>\n",
       "    <tr style=\"text-align: right;\">\n",
       "      <th></th>\n",
       "      <th>Country</th>\n",
       "      <th>January</th>\n",
       "      <th>February</th>\n",
       "      <th>March</th>\n",
       "      <th>April</th>\n",
       "      <th>May</th>\n",
       "      <th>June</th>\n",
       "      <th>July</th>\n",
       "      <th>August</th>\n",
       "      <th>September</th>\n",
       "      <th>October</th>\n",
       "      <th>November</th>\n",
       "      <th>December</th>\n",
       "      <th>Annual</th>\n",
       "      <th>Amplitude</th>\n",
       "      <th>Latitude</th>\n",
       "      <th>Longitude</th>\n",
       "      <th>Area</th>\n",
       "      <th>d1</th>\n",
       "      <th>d2</th>\n",
       "    </tr>\n",
       "  </thead>\n",
       "  <tbody>\n",
       "    <tr>\n",
       "      <th>0</th>\n",
       "      <td>Amsterdam</td>\n",
       "      <td>2.9</td>\n",
       "      <td>2.5</td>\n",
       "      <td>5.7</td>\n",
       "      <td>8.2</td>\n",
       "      <td>12.5</td>\n",
       "      <td>14.8</td>\n",
       "      <td>17.1</td>\n",
       "      <td>17.1</td>\n",
       "      <td>14.5</td>\n",
       "      <td>11.4</td>\n",
       "      <td>7.0</td>\n",
       "      <td>4.4</td>\n",
       "      <td>9.9</td>\n",
       "      <td>14.6</td>\n",
       "      <td>52.2</td>\n",
       "      <td>4.5</td>\n",
       "      <td>West</td>\n",
       "      <td>80.615242</td>\n",
       "      <td>-27.953365</td>\n",
       "    </tr>\n",
       "    <tr>\n",
       "      <th>1</th>\n",
       "      <td>Athens</td>\n",
       "      <td>9.1</td>\n",
       "      <td>9.7</td>\n",
       "      <td>11.7</td>\n",
       "      <td>15.4</td>\n",
       "      <td>20.1</td>\n",
       "      <td>24.5</td>\n",
       "      <td>27.4</td>\n",
       "      <td>27.2</td>\n",
       "      <td>23.8</td>\n",
       "      <td>19.2</td>\n",
       "      <td>14.6</td>\n",
       "      <td>11.0</td>\n",
       "      <td>17.8</td>\n",
       "      <td>18.3</td>\n",
       "      <td>37.6</td>\n",
       "      <td>23.5</td>\n",
       "      <td>South</td>\n",
       "      <td>100.700211</td>\n",
       "      <td>308.723907</td>\n",
       "    </tr>\n",
       "    <tr>\n",
       "      <th>2</th>\n",
       "      <td>Berlin</td>\n",
       "      <td>-0.2</td>\n",
       "      <td>0.1</td>\n",
       "      <td>4.4</td>\n",
       "      <td>8.2</td>\n",
       "      <td>13.8</td>\n",
       "      <td>16.0</td>\n",
       "      <td>18.3</td>\n",
       "      <td>18.0</td>\n",
       "      <td>14.4</td>\n",
       "      <td>10.0</td>\n",
       "      <td>4.2</td>\n",
       "      <td>1.2</td>\n",
       "      <td>9.1</td>\n",
       "      <td>18.5</td>\n",
       "      <td>52.3</td>\n",
       "      <td>13.2</td>\n",
       "      <td>West</td>\n",
       "      <td>-26.664759</td>\n",
       "      <td>-41.477291</td>\n",
       "    </tr>\n",
       "    <tr>\n",
       "      <th>3</th>\n",
       "      <td>Brussels</td>\n",
       "      <td>3.3</td>\n",
       "      <td>3.3</td>\n",
       "      <td>6.7</td>\n",
       "      <td>8.9</td>\n",
       "      <td>12.8</td>\n",
       "      <td>15.6</td>\n",
       "      <td>17.8</td>\n",
       "      <td>17.8</td>\n",
       "      <td>15.0</td>\n",
       "      <td>11.1</td>\n",
       "      <td>6.7</td>\n",
       "      <td>4.4</td>\n",
       "      <td>10.3</td>\n",
       "      <td>14.4</td>\n",
       "      <td>50.5</td>\n",
       "      <td>4.2</td>\n",
       "      <td>West</td>\n",
       "      <td>109.445694</td>\n",
       "      <td>43.510651</td>\n",
       "    </tr>\n",
       "    <tr>\n",
       "      <th>4</th>\n",
       "      <td>Budapest</td>\n",
       "      <td>-1.1</td>\n",
       "      <td>0.8</td>\n",
       "      <td>5.5</td>\n",
       "      <td>11.6</td>\n",
       "      <td>17.0</td>\n",
       "      <td>20.2</td>\n",
       "      <td>22.0</td>\n",
       "      <td>21.3</td>\n",
       "      <td>16.9</td>\n",
       "      <td>11.3</td>\n",
       "      <td>5.1</td>\n",
       "      <td>0.7</td>\n",
       "      <td>10.9</td>\n",
       "      <td>23.1</td>\n",
       "      <td>47.3</td>\n",
       "      <td>19.0</td>\n",
       "      <td>East</td>\n",
       "      <td>-55.920189</td>\n",
       "      <td>68.913139</td>\n",
       "    </tr>\n",
       "  </tbody>\n",
       "</table>\n",
       "</div>"
      ],
      "text/plain": [
       "      Country  January  February  March  April   May  June  July  August  \\\n",
       "0  Amsterdam       2.9       2.5    5.7    8.2  12.5  14.8  17.1    17.1   \n",
       "1     Athens       9.1       9.7   11.7   15.4  20.1  24.5  27.4    27.2   \n",
       "2     Berlin      -0.2       0.1    4.4    8.2  13.8  16.0  18.3    18.0   \n",
       "3    Brussels      3.3       3.3    6.7    8.9  12.8  15.6  17.8    17.8   \n",
       "4   Budapest      -1.1       0.8    5.5   11.6  17.0  20.2  22.0    21.3   \n",
       "\n",
       "   September  October  November  December  Annual  Amplitude  Latitude  \\\n",
       "0       14.5     11.4       7.0       4.4     9.9       14.6      52.2   \n",
       "1       23.8     19.2      14.6      11.0    17.8       18.3      37.6   \n",
       "2       14.4     10.0       4.2       1.2     9.1       18.5      52.3   \n",
       "3       15.0     11.1       6.7       4.4    10.3       14.4      50.5   \n",
       "4       16.9     11.3       5.1       0.7    10.9       23.1      47.3   \n",
       "\n",
       "   Longitude   Area          d1          d2  \n",
       "0        4.5   West   80.615242  -27.953365  \n",
       "1       23.5  South  100.700211  308.723907  \n",
       "2       13.2   West  -26.664759  -41.477291  \n",
       "3        4.2   West  109.445694   43.510651  \n",
       "4       19.0   East  -55.920189   68.913139  "
      ]
     },
     "execution_count": 124,
     "metadata": {},
     "output_type": "execute_result"
    }
   ],
   "source": [
    "# Merge together\n",
    "df_out = pd.concat ( [df, pd.DataFrame ( X_embedded, columns =['d1','d2'] )], axis=1 )\n",
    "df_out.head()\n"
   ]
  },
  {
   "cell_type": "code",
   "execution_count": 125,
   "metadata": {},
   "outputs": [
    {
     "data": {
      "text/plain": [
       "<matplotlib.axes._subplots.AxesSubplot at 0x1f0304234c8>"
      ]
     },
     "execution_count": 125,
     "metadata": {},
     "output_type": "execute_result"
    },
    {
     "data": {
      "image/png": "[encoded data removed]",
      "text/plain": [
       "<Figure size 432x288 with 1 Axes>"
      ]
     },
     "metadata": {
      "needs_background": "light"
     },
     "output_type": "display_data"
    }
   ],
   "source": [
    "sns.set_context ('notebook', font_scale =1.1)\n",
    "sns.set_style = ('ticks')\n",
    "sns.scatterplot ( x = 'd1', y='d2', data = df_out, hue='Amplitude')\n"
   ]
  },
  {
   "cell_type": "code",
   "execution_count": 126,
   "metadata": {},
   "outputs": [
    {
     "data": {
      "text/plain": [
       "<matplotlib.axes._subplots.AxesSubplot at 0x1f0303b4c88>"
      ]
     },
     "execution_count": 126,
     "metadata": {},
     "output_type": "execute_result"
    },
    {
     "data": {
      "image/png": "[encoded data removed]",
      "text/plain": [
       "<Figure size 432x288 with 1 Axes>"
      ]
     },
     "metadata": {
      "needs_background": "light"
     },
     "output_type": "display_data"
    }
   ],
   "source": [
    "sns.set_context ('notebook', font_scale =1.1)\n",
    "sns.set_style = ('ticks')\n",
    "sns.scatterplot ( x = 'd1', y='d2', data = df_out, hue='Area')"
   ]
  },
  {
   "cell_type": "code",
   "execution_count": 99,
   "metadata": {},
   "outputs": [
    {
     "data": {
      "text/plain": [
       "<matplotlib.axes._subplots.AxesSubplot at 0x1f02efc6408>"
      ]
     },
     "execution_count": 99,
     "metadata": {},
     "output_type": "execute_result"
    },
    {
     "data": {
      "image/png": "[encoded data removed]",
      "text/plain": [
       "<Figure size 432x288 with 1 Axes>"
      ]
     },
     "metadata": {
      "needs_background": "light"
     },
     "output_type": "display_data"
    }
   ],
   "source": [
    "sns.set_context ('notebook', font_scale =1.1)\n",
    "sns.set_style = ('ticks')\n",
    "sns.scatterplot ( x = 'd1', y='d2', data = df_out, hue='Annual')"
   ]
  },
  {
   "cell_type": "code",
   "execution_count": 130,
   "metadata": {},
   "outputs": [],
   "source": [
    "# Apply k means\n",
    "import pandas as pd\n",
    "from sklearn.cluster import KMeans\n",
    "\n",
    "kmeans = KMeans(n_clusters=6)\n",
    "\n",
    "df_out['cluster'] =   kmeans.fit_predict(  df_out [['d1', 'd2']])  \n",
    "\n",
    "\n"
   ]
  },
  {
   "cell_type": "code",
   "execution_count": 132,
   "metadata": {},
   "outputs": [
    {
     "data": {
      "text/plain": [
       "<matplotlib.axes._subplots.AxesSubplot at 0x1f03061ca88>"
      ]
     },
     "execution_count": 132,
     "metadata": {},
     "output_type": "execute_result"
    },
    {
     "data": {
      "image/png": "[encoded data removed]",
      "text/plain": [
       "<Figure size 432x288 with 1 Axes>"
      ]
     },
     "metadata": {
      "needs_background": "light"
     },
     "output_type": "display_data"
    }
   ],
   "source": [
    "sns.set_context ('notebook', font_scale =1.1)\n",
    "sns.set_style = ('ticks')\n",
    "sns.scatterplot ( x = 'd1', y='d2', data = df_out, hue='cluster')"
   ]
  },
  {
   "cell_type": "code",
   "execution_count": 137,
   "metadata": {
    "scrolled": true
   },
   "outputs": [
    {
     "data": {
      "text/html": [
       "<div>\n",
       "<style scoped>\n",
       "    .dataframe tbody tr th:only-of-type {\n",
       "        vertical-align: middle;\n",
       "    }\n",
       "\n",
       "    .dataframe tbody tr th {\n",
       "        vertical-align: top;\n",
       "    }\n",
       "\n",
       "    .dataframe thead th {\n",
       "        text-align: right;\n",
       "    }\n",
       "</style>\n",
       "<table border=\"1\" class=\"dataframe\">\n",
       "  <thead>\n",
       "    <tr style=\"text-align: right;\">\n",
       "      <th>Area</th>\n",
       "      <th>East</th>\n",
       "      <th>North</th>\n",
       "      <th>South</th>\n",
       "      <th>West</th>\n",
       "    </tr>\n",
       "    <tr>\n",
       "      <th>cluster</th>\n",
       "      <th></th>\n",
       "      <th></th>\n",
       "      <th></th>\n",
       "      <th></th>\n",
       "    </tr>\n",
       "  </thead>\n",
       "  <tbody>\n",
       "    <tr>\n",
       "      <th>0</th>\n",
       "      <td>0.0</td>\n",
       "      <td>0.0</td>\n",
       "      <td>7.0</td>\n",
       "      <td>0.0</td>\n",
       "    </tr>\n",
       "    <tr>\n",
       "      <th>1</th>\n",
       "      <td>1.0</td>\n",
       "      <td>1.0</td>\n",
       "      <td>1.0</td>\n",
       "      <td>1.0</td>\n",
       "    </tr>\n",
       "    <tr>\n",
       "      <th>2</th>\n",
       "      <td>0.0</td>\n",
       "      <td>0.0</td>\n",
       "      <td>2.0</td>\n",
       "      <td>2.0</td>\n",
       "    </tr>\n",
       "    <tr>\n",
       "      <th>3</th>\n",
       "      <td>4.0</td>\n",
       "      <td>4.0</td>\n",
       "      <td>0.0</td>\n",
       "      <td>0.0</td>\n",
       "    </tr>\n",
       "    <tr>\n",
       "      <th>4</th>\n",
       "      <td>3.0</td>\n",
       "      <td>0.0</td>\n",
       "      <td>0.0</td>\n",
       "      <td>3.0</td>\n",
       "    </tr>\n",
       "    <tr>\n",
       "      <th>5</th>\n",
       "      <td>0.0</td>\n",
       "      <td>3.0</td>\n",
       "      <td>0.0</td>\n",
       "      <td>3.0</td>\n",
       "    </tr>\n",
       "  </tbody>\n",
       "</table>\n",
       "</div>"
      ],
      "text/plain": [
       "Area     East  North  South  West\n",
       "cluster                          \n",
       "0         0.0    0.0    7.0   0.0\n",
       "1         1.0    1.0    1.0   1.0\n",
       "2         0.0    0.0    2.0   2.0\n",
       "3         4.0    4.0    0.0   0.0\n",
       "4         3.0    0.0    0.0   3.0\n",
       "5         0.0    3.0    0.0   3.0"
      ]
     },
     "execution_count": 137,
     "metadata": {},
     "output_type": "execute_result"
    }
   ],
   "source": [
    "#pd.crosstab(df_out, ['cluster', 'Area'] )     \n",
    "\n",
    "df_out.groupby(['cluster', 'Area'])['cluster'].count().unstack().fillna(0)"
   ]
  },
  {
   "cell_type": "code",
   "execution_count": 179,
   "metadata": {},
   "outputs": [
    {
     "data": {
      "text/html": [
       "<div>\n",
       "<style scoped>\n",
       "    .dataframe tbody tr th:only-of-type {\n",
       "        vertical-align: middle;\n",
       "    }\n",
       "\n",
       "    .dataframe tbody tr th {\n",
       "        vertical-align: top;\n",
       "    }\n",
       "\n",
       "    .dataframe thead th {\n",
       "        text-align: right;\n",
       "    }\n",
       "</style>\n",
       "<table border=\"1\" class=\"dataframe\">\n",
       "  <thead>\n",
       "    <tr style=\"text-align: right;\">\n",
       "      <th></th>\n",
       "      <th>cluster</th>\n",
       "      <th>Area</th>\n",
       "      <th>month</th>\n",
       "      <th>degrees</th>\n",
       "    </tr>\n",
       "  </thead>\n",
       "  <tbody>\n",
       "    <tr>\n",
       "      <th>0</th>\n",
       "      <td>5</td>\n",
       "      <td>West</td>\n",
       "      <td>January</td>\n",
       "      <td>2.9</td>\n",
       "    </tr>\n",
       "    <tr>\n",
       "      <th>1</th>\n",
       "      <td>0</td>\n",
       "      <td>South</td>\n",
       "      <td>January</td>\n",
       "      <td>9.1</td>\n",
       "    </tr>\n",
       "    <tr>\n",
       "      <th>2</th>\n",
       "      <td>4</td>\n",
       "      <td>West</td>\n",
       "      <td>January</td>\n",
       "      <td>-0.2</td>\n",
       "    </tr>\n",
       "    <tr>\n",
       "      <th>3</th>\n",
       "      <td>5</td>\n",
       "      <td>West</td>\n",
       "      <td>January</td>\n",
       "      <td>3.3</td>\n",
       "    </tr>\n",
       "    <tr>\n",
       "      <th>4</th>\n",
       "      <td>4</td>\n",
       "      <td>East</td>\n",
       "      <td>January</td>\n",
       "      <td>-1.1</td>\n",
       "    </tr>\n",
       "  </tbody>\n",
       "</table>\n",
       "</div>"
      ],
      "text/plain": [
       "   cluster   Area    month  degrees\n",
       "0        5   West  January      2.9\n",
       "1        0  South  January      9.1\n",
       "2        4   West  January     -0.2\n",
       "3        5   West  January      3.3\n",
       "4        4   East  January     -1.1"
      ]
     },
     "execution_count": 179,
     "metadata": {},
     "output_type": "execute_result"
    }
   ],
   "source": [
    "#df_unpivoted = df_out.melt(id_vars=['car_model'], var_name='date', value_name='0-60mph_in_seconds')\n",
    "\n",
    "df_unpivoted = df_out.melt(id_vars=['cluster', 'Area'] ,\n",
    "                          value_vars = ['January', 'February', 'March'\n",
    "                                        , 'April', 'May', 'June'\n",
    "                                        , 'July', 'August','September'\n",
    "                                        , 'October', 'November', 'December'],\n",
    "                           var_name ='month',\n",
    "                           value_name='degrees') \n",
    "\n",
    "#df_out[['cluster']]\n",
    "df_unpivoted.head()\n",
    "#help ( df_out.melt)\n",
    "\n",
    "#df_unpivoted['variable'].unique()\n",
    "\n",
    "\n"
   ]
  },
  {
   "cell_type": "code",
   "execution_count": 181,
   "metadata": {},
   "outputs": [
    {
     "ename": "AttributeError",
     "evalue": "module 'matplotlib' has no attribute 'plot'",
     "output_type": "error",
     "traceback": [
      "\u001b[1;31m---------------------------------------------------------------------------\u001b[0m",
      "\u001b[1;31mAttributeError\u001b[0m                            Traceback (most recent call last)",
      "\u001b[1;32m<ipython-input-181-bf44d393cf98>\u001b[0m in \u001b[0;36m<module>\u001b[1;34m\u001b[0m\n\u001b[0;32m      4\u001b[0m \u001b[1;33m\u001b[0m\u001b[0m\n\u001b[0;32m      5\u001b[0m \u001b[1;31m# Add the line over the area with the plot function\u001b[0m\u001b[1;33m\u001b[0m\u001b[1;33m\u001b[0m\u001b[1;33m\u001b[0m\u001b[0m\n\u001b[1;32m----> 6\u001b[1;33m \u001b[0mg\u001b[0m \u001b[1;33m=\u001b[0m \u001b[0mg\u001b[0m\u001b[1;33m.\u001b[0m\u001b[0mmap\u001b[0m\u001b[1;33m(\u001b[0m\u001b[0mplt\u001b[0m\u001b[1;33m.\u001b[0m\u001b[0mplot\u001b[0m\u001b[1;33m,\u001b[0m \u001b[1;34m'month'\u001b[0m\u001b[1;33m,\u001b[0m \u001b[1;34m'degrees'\u001b[0m\u001b[1;33m)\u001b[0m\u001b[1;33m\u001b[0m\u001b[1;33m\u001b[0m\u001b[0m\n\u001b[0m\u001b[0;32m      7\u001b[0m \u001b[1;33m\u001b[0m\u001b[0m\n\u001b[0;32m      8\u001b[0m \u001b[1;31m# Fill the area with fill_between\u001b[0m\u001b[1;33m\u001b[0m\u001b[1;33m\u001b[0m\u001b[1;33m\u001b[0m\u001b[0m\n",
      "\u001b[1;31mAttributeError\u001b[0m: module 'matplotlib' has no attribute 'plot'"
     ]
    },
    {
     "data": {
      "image/png": "[encoded data removed]",
      "text/plain": [
       "<Figure size 864x432 with 6 Axes>"
      ]
     },
     "metadata": {
      "needs_background": "light"
     },
     "output_type": "display_data"
    }
   ],
   "source": [
    "\n",
    "# Create a grid : initialize it\n",
    "#g = sns.FacetGrid(df, col='country', hue='country', col_wrap=4, )\n",
    "g = sns.FacetGrid(df_unpivoted, col='cluster', col_wrap=4, )\n",
    "\n",
    "# Add the line over the area with the plot function\n",
    "g = g.map(plt.plot, 'month', 'degrees')\n",
    " \n",
    "# Fill the area with fill_between\n",
    "#g = g.map(plt.fill_between, 'month', 'degrees', alpha=0.2).set_titles(\"{col_name} city\")\n",
    " \n",
    "# Control the title of each facet\n",
    "#g = g.set_titles(\"{col_name}\")\n",
    " \n",
    "# Add a title for the whole plot\n",
    "plt.subplots_adjust(top=0.92)\n",
    "g = g.fig.suptitle('title')\n",
    "\n",
    "# Show the graph\n",
    "plt.show()"
   ]
  }
 ],
 "metadata": {
  "kernelspec": {
   "display_name": "Python 3",
   "language": "python",
   "name": "python3"
  },
  "language_info": {
   "codemirror_mode": {
    "name": "ipython",
    "version": 3
   },
   "file_extension": ".py",
   "mimetype": "text/x-python",
   "name": "python",
   "nbconvert_exporter": "python",
   "pygments_lexer": "ipython3",
   "version": "3.7.6"
  }
 },
 "nbformat": 4,
 "nbformat_minor": 4
}
